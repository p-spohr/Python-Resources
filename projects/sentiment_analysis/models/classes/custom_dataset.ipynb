{
 "cells": [
  {
   "cell_type": "code",
   "execution_count": null,
   "id": "4155be61-92a7-47ff-9cf1-cfdc703df135",
   "metadata": {},
   "outputs": [],
   "source": [
    "import torch\n",
    "from torch import nn\n",
    "\n",
    "import pandas as pd\n",
    "import numpy as np\n",
    "\n",
    "from sklearn.model_selection import train_test_split\n",
    "\n",
    "import matplotlib.pyplot as plt\n",
    "\n",
    "from utils import simulate_stock_price\n",
    "from utils import numpy_sequence_target\n",
    "\n",
    "from torch.utils.data import DataLoader, TensorDataset"
   ]
  },
  {
   "cell_type": "code",
   "execution_count": 84,
   "id": "823502a3-ae67-449d-8541-14d7e87c917b",
   "metadata": {},
   "outputs": [],
   "source": [
    "class DatasetConverter(Dataset):\n",
    "    def __init__(self, features, targets):\n",
    "        \n",
    "        super().__init__()\n",
    "        \n",
    "        raise TypeError('Features and targets must be of the same type') if (type(features) != type(targets))\n",
    "        \n",
    "        raise TypeError('Type not yet supported. Please use numpy.ndarray.') if type(features) != numpy.ndarray\n",
    "        \n",
    "        if type(features) == numpy.ndarray\n",
    "            self.features = torch.tensor(features)\n",
    "            self.targets = torch.tensor(targets)\n",
    "\n",
    "   \n",
    "    def __len__(self):\n",
    "        pass\n",
    "\n",
    "    def __getitem__(self, idx):\n",
    "        pass"
   ]
  }
 ],
 "metadata": {
  "kernelspec": {
   "display_name": "DataSci",
   "language": "python",
   "name": "datascie"
  },
  "language_info": {
   "codemirror_mode": {
    "name": "ipython",
    "version": 3
   },
   "file_extension": ".py",
   "mimetype": "text/x-python",
   "name": "python",
   "nbconvert_exporter": "python",
   "pygments_lexer": "ipython3",
   "version": "3.13.0"
  }
 },
 "nbformat": 4,
 "nbformat_minor": 5
}

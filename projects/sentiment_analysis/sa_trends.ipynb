{
 "cells": [
  {
   "cell_type": "markdown",
   "id": "001c3705-2464-4dd4-8cf9-b5b935dc72dc",
   "metadata": {},
   "source": [
    "# Imports"
   ]
  },
  {
   "cell_type": "code",
   "execution_count": 1,
   "id": "c334d22f-a2e9-4b94-ae37-61d2169600fe",
   "metadata": {
    "editable": true,
    "slideshow": {
     "slide_type": ""
    },
    "tags": []
   },
   "outputs": [],
   "source": [
    "import pandas as pd\n",
    "import numpy as np\n",
    "from pathlib import Path\n",
    "import os\n",
    "import matplotlib.pyplot as plt\n",
    "import yfinance as yf"
   ]
  },
  {
   "cell_type": "code",
   "execution_count": 2,
   "id": "bb8cd003-3490-4754-97a3-0935336e91af",
   "metadata": {},
   "outputs": [],
   "source": [
    "cwd_path = Path(os.getcwd())"
   ]
  },
  {
   "cell_type": "code",
   "execution_count": 3,
   "id": "3efe65e1-a273-4f5c-9cf7-fd2b47a1e444",
   "metadata": {},
   "outputs": [
    {
     "name": "stdout",
     "output_type": "stream",
     "text": [
      "sentiment_analysis\n",
      "---.gitignore\n",
      "---quick_analysis.py\n",
      "---sa_trends.ipynb\n",
      ".ipynb_checkpoints\n",
      "---sa_trends-checkpoint.ipynb\n",
      "data\n",
      "cleaned\n",
      "---potential_companies_by_news_volume.csv\n",
      "raw\n",
      "---sentiment_all.csv\n",
      "---sentiment_sample.csv\n"
     ]
    }
   ],
   "source": [
    "for dirroot, dirnames, filenames in os.walk(os.getcwd()):\n",
    "    print(os.path.basename(dirroot))\n",
    "    for file in filenames:\n",
    "        print(f'---{file}')"
   ]
  },
  {
   "cell_type": "code",
   "execution_count": 62,
   "id": "44263f11-6303-444d-b016-ef3bb7cc44fe",
   "metadata": {},
   "outputs": [],
   "source": [
    "try_file = cwd_path / 'data' / 'raw' / 'sentiment_all.csv'"
   ]
  },
  {
   "cell_type": "code",
   "execution_count": 63,
   "id": "d6a01663-6c38-4ec8-9b8c-7317c38f0281",
   "metadata": {},
   "outputs": [],
   "source": [
    "download_csv = try_file if os.path.exists(try_file) else print('File not found.')"
   ]
  },
  {
   "cell_type": "code",
   "execution_count": 99,
   "id": "8d5e1989-3773-4e69-baa6-eefed9451fc3",
   "metadata": {
    "editable": true,
    "slideshow": {
     "slide_type": ""
    },
    "tags": []
   },
   "outputs": [],
   "source": [
    "sent_df_raw = pd.read_csv(download_csv, header= 'infer')"
   ]
  },
  {
   "cell_type": "code",
   "execution_count": 100,
   "id": "9dc354c8-f441-492d-826a-c111a39a0462",
   "metadata": {},
   "outputs": [],
   "source": [
    "def clean_company(ser : pd.Series, sep : str):\n",
    "    return ser.split(sep)[1]"
   ]
  },
  {
   "cell_type": "code",
   "execution_count": 101,
   "id": "9e69593b-fcb1-4c3e-8119-ef7ed2e8a151",
   "metadata": {},
   "outputs": [
    {
     "data": {
      "text/plain": [
       "0    cara_therapeutics_inc\n",
       "1    cara_therapeutics_inc\n",
       "2    cara_therapeutics_inc\n",
       "3    cara_therapeutics_inc\n",
       "4    cara_therapeutics_inc\n",
       "Name: company, dtype: object"
      ]
     },
     "execution_count": 101,
     "metadata": {},
     "output_type": "execute_result"
    }
   ],
   "source": [
    "sent_df_raw.company.head().apply(clean_company, args= (':'))"
   ]
  },
  {
   "cell_type": "code",
   "execution_count": 102,
   "id": "fa84220b-55b4-4618-a13e-0ecd7a3e0e92",
   "metadata": {},
   "outputs": [],
   "source": [
    "sent_df = sent_df_raw.copy()"
   ]
  },
  {
   "cell_type": "code",
   "execution_count": 103,
   "id": "665b5f0b-cb46-40e3-86eb-f9e4c2a7a756",
   "metadata": {},
   "outputs": [],
   "source": [
    "sent_df.company = sent_df.company.apply(clean_company, args= (':'))"
   ]
  },
  {
   "cell_type": "code",
   "execution_count": 104,
   "id": "dc3efe60-fac5-4288-92ef-caaf0c9078cc",
   "metadata": {},
   "outputs": [
    {
     "data": {
      "text/plain": [
       "203"
      ]
     },
     "execution_count": 104,
     "metadata": {},
     "output_type": "execute_result"
    }
   ],
   "source": [
    "sent_df.company.nunique()"
   ]
  },
  {
   "cell_type": "code",
   "execution_count": 105,
   "id": "da5ac0e1-2b70-4370-b8e7-da201c68af5e",
   "metadata": {},
   "outputs": [],
   "source": [
    "def series_opi(ser : pd.Series, operator, value):\n",
    "    return eval(f'ser[ser {operator} {value}]')"
   ]
  },
  {
   "cell_type": "code",
   "execution_count": 175,
   "id": "e35fd572-fa36-4bc7-bc6f-e0abf75aae7e",
   "metadata": {},
   "outputs": [
    {
     "data": {
      "text/plain": [
       "company\n",
       "morgan_stanley            263.995755\n",
       "tesla_motors              224.777885\n",
       "bank_of_america           191.449633\n",
       "airbus                    118.677538\n",
       "wells_fargo               116.749325\n",
       "nvidia                    109.029525\n",
       "johnson_johnson           100.788499\n",
       "oracle                     99.568506\n",
       "at_t                       96.742377\n",
       "walmart                    78.503474\n",
       "salesforce_com             69.479931\n",
       "american_express           69.317252\n",
       "chevron                    65.377846\n",
       "merckco                    62.109417\n",
       "starbucks                  61.725589\n",
       "honda                      60.939985\n",
       "nissan                     59.291779\n",
       "paypal                     58.420301\n",
       "comcast                    56.089927\n",
       "pepsico                    48.940949\n",
       "delta_air_lines            48.851602\n",
       "fedex                      41.137978\n",
       "infosys_ltd                40.098418\n",
       "marriott_international     35.302200\n",
       "american_airlines          29.323620\n",
       "micron_technology          29.187186\n",
       "gamestop                   29.055770\n",
       "united_technologies        28.824971\n",
       "icici_bank_ltd             27.505017\n",
       "snap                       27.241027\n",
       "carnival___plc             26.800656\n",
       "kroger                     26.604786\n",
       "lloyds_banking             26.380934\n",
       "the_blackstone_group       24.057314\n",
       "porsche                    23.662871\n",
       "banco_santander            23.152065\n",
       "conocophillips             21.653802\n",
       "general_mills              20.381899\n",
       "under_armour               20.246816\n",
       "jetblue_airways_corp       17.462756\n",
       "cvs_health                 16.552103\n",
       "stmicroelectronics         16.523736\n",
       "duke_energy                14.721922\n",
       "tyson_foods                14.711887\n",
       "enbridge_inc               14.138171\n",
       "hasbro                     14.108066\n",
       "schlumberger               13.628329\n",
       "applied_materials          13.175222\n",
       "general_dynamics           13.153416\n",
       "dominion_energy            12.961598\n",
       "wynn_resorts               12.529332\n",
       "western_digital            12.034157\n",
       "dropbox_inc                11.628715\n",
       "reckitt_benckiser          10.715940\n",
       "Name: volume, dtype: float64"
      ]
     },
     "execution_count": 175,
     "metadata": {},
     "output_type": "execute_result"
    }
   ],
   "source": [
    "sent_df.groupby('company').volume.mean().sort_values(ascending= False).pipe(series_opi, operator= '>', value= '10')"
   ]
  },
  {
   "cell_type": "code",
   "execution_count": null,
   "id": "a2a0bad2-276f-4875-b215-08a9ad41bb46",
   "metadata": {},
   "outputs": [],
   "source": [
    "cvs_health = sent_df.query(\"company == 'cvs_health'\").loc[:,['date', 'sentiment']]"
   ]
  },
  {
   "cell_type": "code",
   "execution_count": null,
   "id": "eebe3b23-313c-4aaa-9a13-b25fc2d10022",
   "metadata": {},
   "outputs": [],
   "source": [
    "cvs_health.index = pd.to_datetime(cvs_health.date)"
   ]
  },
  {
   "cell_type": "code",
   "execution_count": null,
   "id": "b37902fd-a28e-4119-b80c-b613244b6d4f",
   "metadata": {},
   "outputs": [],
   "source": [
    "cvs_health.drop('date', axis= 1, inplace= True)"
   ]
  },
  {
   "cell_type": "code",
   "execution_count": 133,
   "id": "7a49bfd7-460d-49fa-806c-be0797cf5f5d",
   "metadata": {},
   "outputs": [
    {
     "data": {
      "text/html": [
       "<div>\n",
       "<style scoped>\n",
       "    .dataframe tbody tr th:only-of-type {\n",
       "        vertical-align: middle;\n",
       "    }\n",
       "\n",
       "    .dataframe tbody tr th {\n",
       "        vertical-align: top;\n",
       "    }\n",
       "\n",
       "    .dataframe thead th {\n",
       "        text-align: right;\n",
       "    }\n",
       "</style>\n",
       "<table border=\"1\" class=\"dataframe\">\n",
       "  <thead>\n",
       "    <tr style=\"text-align: right;\">\n",
       "      <th></th>\n",
       "      <th>sentiment</th>\n",
       "    </tr>\n",
       "    <tr>\n",
       "      <th>date</th>\n",
       "      <th></th>\n",
       "    </tr>\n",
       "  </thead>\n",
       "  <tbody>\n",
       "    <tr>\n",
       "      <th>2010-01-01</th>\n",
       "      <td>0.500000</td>\n",
       "    </tr>\n",
       "    <tr>\n",
       "      <th>2010-01-02</th>\n",
       "      <td>0.500000</td>\n",
       "    </tr>\n",
       "    <tr>\n",
       "      <th>2010-01-03</th>\n",
       "      <td>0.500000</td>\n",
       "    </tr>\n",
       "    <tr>\n",
       "      <th>2010-01-04</th>\n",
       "      <td>0.500000</td>\n",
       "    </tr>\n",
       "    <tr>\n",
       "      <th>2010-01-05</th>\n",
       "      <td>0.500000</td>\n",
       "    </tr>\n",
       "    <tr>\n",
       "      <th>...</th>\n",
       "      <td>...</td>\n",
       "    </tr>\n",
       "    <tr>\n",
       "      <th>2024-03-05</th>\n",
       "      <td>0.642857</td>\n",
       "    </tr>\n",
       "    <tr>\n",
       "      <th>2024-03-06</th>\n",
       "      <td>0.888889</td>\n",
       "    </tr>\n",
       "    <tr>\n",
       "      <th>2024-03-07</th>\n",
       "      <td>0.952381</td>\n",
       "    </tr>\n",
       "    <tr>\n",
       "      <th>2024-03-08</th>\n",
       "      <td>0.941176</td>\n",
       "    </tr>\n",
       "    <tr>\n",
       "      <th>2024-03-09</th>\n",
       "      <td>0.800000</td>\n",
       "    </tr>\n",
       "  </tbody>\n",
       "</table>\n",
       "<p>5182 rows × 1 columns</p>\n",
       "</div>"
      ],
      "text/plain": [
       "            sentiment\n",
       "date                 \n",
       "2010-01-01   0.500000\n",
       "2010-01-02   0.500000\n",
       "2010-01-03   0.500000\n",
       "2010-01-04   0.500000\n",
       "2010-01-05   0.500000\n",
       "...               ...\n",
       "2024-03-05   0.642857\n",
       "2024-03-06   0.888889\n",
       "2024-03-07   0.952381\n",
       "2024-03-08   0.941176\n",
       "2024-03-09   0.800000\n",
       "\n",
       "[5182 rows x 1 columns]"
      ]
     },
     "execution_count": 133,
     "metadata": {},
     "output_type": "execute_result"
    }
   ],
   "source": [
    "cvs_health"
   ]
  },
  {
   "cell_type": "code",
   "execution_count": 167,
   "id": "ddec31d4-8c67-4c6d-aa6e-f15de2401821",
   "metadata": {},
   "outputs": [
    {
     "data": {
      "text/html": [
       "<div>\n",
       "<style scoped>\n",
       "    .dataframe tbody tr th:only-of-type {\n",
       "        vertical-align: middle;\n",
       "    }\n",
       "\n",
       "    .dataframe tbody tr th {\n",
       "        vertical-align: top;\n",
       "    }\n",
       "\n",
       "    .dataframe thead th {\n",
       "        text-align: right;\n",
       "    }\n",
       "</style>\n",
       "<table border=\"1\" class=\"dataframe\">\n",
       "  <thead>\n",
       "    <tr style=\"text-align: right;\">\n",
       "      <th></th>\n",
       "      <th>sentiment</th>\n",
       "    </tr>\n",
       "    <tr>\n",
       "      <th>date</th>\n",
       "      <th></th>\n",
       "    </tr>\n",
       "  </thead>\n",
       "  <tbody>\n",
       "    <tr>\n",
       "      <th>2010-01-01</th>\n",
       "      <td>NaN</td>\n",
       "    </tr>\n",
       "    <tr>\n",
       "      <th>2010-01-02</th>\n",
       "      <td>0.000000</td>\n",
       "    </tr>\n",
       "    <tr>\n",
       "      <th>2010-01-03</th>\n",
       "      <td>0.000000</td>\n",
       "    </tr>\n",
       "    <tr>\n",
       "      <th>2010-01-04</th>\n",
       "      <td>0.000000</td>\n",
       "    </tr>\n",
       "    <tr>\n",
       "      <th>2010-01-05</th>\n",
       "      <td>0.000000</td>\n",
       "    </tr>\n",
       "    <tr>\n",
       "      <th>...</th>\n",
       "      <td>...</td>\n",
       "    </tr>\n",
       "    <tr>\n",
       "      <th>2024-03-05</th>\n",
       "      <td>0.251314</td>\n",
       "    </tr>\n",
       "    <tr>\n",
       "      <th>2024-03-06</th>\n",
       "      <td>0.575364</td>\n",
       "    </tr>\n",
       "    <tr>\n",
       "      <th>2024-03-07</th>\n",
       "      <td>0.644357</td>\n",
       "    </tr>\n",
       "    <tr>\n",
       "      <th>2024-03-08</th>\n",
       "      <td>0.632523</td>\n",
       "    </tr>\n",
       "    <tr>\n",
       "      <th>2024-03-09</th>\n",
       "      <td>0.470004</td>\n",
       "    </tr>\n",
       "  </tbody>\n",
       "</table>\n",
       "<p>5182 rows × 1 columns</p>\n",
       "</div>"
      ],
      "text/plain": [
       "            sentiment\n",
       "date                 \n",
       "2010-01-01        NaN\n",
       "2010-01-02   0.000000\n",
       "2010-01-03   0.000000\n",
       "2010-01-04   0.000000\n",
       "2010-01-05   0.000000\n",
       "...               ...\n",
       "2024-03-05   0.251314\n",
       "2024-03-06   0.575364\n",
       "2024-03-07   0.644357\n",
       "2024-03-08   0.632523\n",
       "2024-03-09   0.470004\n",
       "\n",
       "[5182 rows x 1 columns]"
      ]
     },
     "execution_count": 167,
     "metadata": {},
     "output_type": "execute_result"
    }
   ],
   "source": [
    "np.log((cvs_health * 100)).diff().cumsum()"
   ]
  },
  {
   "cell_type": "code",
   "execution_count": 168,
   "id": "d509e617-6d9c-4520-b741-f7bbb8d87265",
   "metadata": {},
   "outputs": [
    {
     "data": {
      "image/png": "[encoded data removed]",
      "text/plain": [
       "<Figure size 640x480 with 1 Axes>"
      ]
     },
     "metadata": {},
     "output_type": "display_data"
    }
   ],
   "source": [
    "np.log((cvs_health * 100)).diff().plot()\n",
    "plt.show()"
   ]
  },
  {
   "cell_type": "code",
   "execution_count": 171,
   "id": "6925dd3e-4fb8-4c2b-bc62-95a6a9abc78b",
   "metadata": {},
   "outputs": [
    {
     "data": {
      "image/png": "[encoded data removed]",
      "text/plain": [
       "<Figure size 640x480 with 1 Axes>"
      ]
     },
     "metadata": {},
     "output_type": "display_data"
    }
   ],
   "source": [
    "(cvs_health - 0.5).cumsum().plot()\n",
    "plt.show()"
   ]
  },
  {
   "cell_type": "code",
   "execution_count": 173,
   "id": "ad22fd49-d2a6-440a-8454-357fee0f0cc1",
   "metadata": {},
   "outputs": [
    {
     "data": {
      "text/plain": [
       "sentiment    726.829829\n",
       "dtype: float64"
      ]
     },
     "execution_count": 173,
     "metadata": {},
     "output_type": "execute_result"
    }
   ],
   "source": [
    "(cvs_health - 0.5).sum()"
   ]
  },
  {
   "cell_type": "code",
   "execution_count": 187,
   "id": "cc2e2072-1b2c-486f-a6ff-a73193a7510d",
   "metadata": {},
   "outputs": [],
   "source": [
    "top_10 = ['morgan_stanley', 'tesla_motors', 'bank_of_america', 'airbus', 'wells_fargo', 'nvidia', 'johnson_johnson', 'oracle', 'at_t', 'walmart']"
   ]
  },
  {
   "cell_type": "code",
   "execution_count": 207,
   "id": "72e72ec2-2fa7-480d-b9fd-ef6cf001b02a",
   "metadata": {},
   "outputs": [],
   "source": [
    "top_df = sent_df.query(\"company == @top_10\").loc[:,['date', 'company', 'sentiment']]"
   ]
  },
  {
   "cell_type": "code",
   "execution_count": 208,
   "id": "ab4b6c22-63e3-4f4f-b6d9-9bc64a8449d7",
   "metadata": {},
   "outputs": [],
   "source": [
    "top_df.index = pd.to_datetime(top_df.date)"
   ]
  },
  {
   "cell_type": "code",
   "execution_count": 210,
   "id": "28071ab2-63a2-4277-8f53-58eb44da62a4",
   "metadata": {},
   "outputs": [],
   "source": [
    "top_df.drop('date', axis= 1, inplace= True)"
   ]
  },
  {
   "cell_type": "code",
   "execution_count": 215,
   "id": "e2498919-28a3-4bf6-9770-8d5bfd6b2623",
   "metadata": {},
   "outputs": [
    {
     "data": {
      "image/png": "[encoded data removed]",
      "text/plain": [
       "<Figure size 640x480 with 1 Axes>"
      ]
     },
     "metadata": {},
     "output_type": "display_data"
    }
   ],
   "source": [
    "fig, ax = plt.subplots(1,1)\n",
    "for comp in top_df.company.unique():\n",
    "    comp_df = top_df.loc[top_df.company == comp]\n",
    "    ax.plot(comp_df.index, (comp_df.sentiment - 0.5).cumsum(), label= comp)\n",
    "ax.legend()\n",
    "plt.show()"
   ]
  },
  {
   "cell_type": "code",
   "execution_count": 217,
   "id": "0d9d9803-d095-4a40-867e-4033ea5a71ed",
   "metadata": {},
   "outputs": [],
   "source": [
    "tickers = [\"MS\", \"TSLA\", \"BAC\", \"AIR\", \"WFC\", \"NVDA\", \"JNJ\", \"ORCL\", \"T\", \"WMT\"]"
   ]
  },
  {
   "cell_type": "code",
   "execution_count": 260,
   "id": "25fb815f-1829-4aa8-a6d1-121f5083e826",
   "metadata": {},
   "outputs": [
    {
     "name": "stderr",
     "output_type": "stream",
     "text": [
      "[*********************100%***********************]  10 of 10 completed\n"
     ]
    }
   ],
   "source": [
    "test_df = yf.download(tickers, period= 'max')"
   ]
  },
  {
   "cell_type": "code",
   "execution_count": 261,
   "id": "d870ffb5-f8af-4649-baef-408433329024",
   "metadata": {},
   "outputs": [],
   "source": [
    "stock_df = test_df.copy()"
   ]
  },
  {
   "cell_type": "code",
   "execution_count": 262,
   "id": "627da439-cb99-4979-8d79-b185f09d12e5",
   "metadata": {},
   "outputs": [
    {
     "data": {
      "text/html": [
       "<div>\n",
       "<style scoped>\n",
       "    .dataframe tbody tr th:only-of-type {\n",
       "        vertical-align: middle;\n",
       "    }\n",
       "\n",
       "    .dataframe tbody tr th {\n",
       "        vertical-align: top;\n",
       "    }\n",
       "\n",
       "    .dataframe thead tr th {\n",
       "        text-align: left;\n",
       "    }\n",
       "\n",
       "    .dataframe thead tr:last-of-type th {\n",
       "        text-align: right;\n",
       "    }\n",
       "</style>\n",
       "<table border=\"1\" class=\"dataframe\">\n",
       "  <thead>\n",
       "    <tr>\n",
       "      <th>Price</th>\n",
       "      <th colspan=\"10\" halign=\"left\">Close</th>\n",
       "      <th>...</th>\n",
       "      <th colspan=\"10\" halign=\"left\">Volume</th>\n",
       "    </tr>\n",
       "    <tr>\n",
       "      <th>Ticker</th>\n",
       "      <th>AIR</th>\n",
       "      <th>BAC</th>\n",
       "      <th>JNJ</th>\n",
       "      <th>MS</th>\n",
       "      <th>NVDA</th>\n",
       "      <th>ORCL</th>\n",
       "      <th>T</th>\n",
       "      <th>TSLA</th>\n",
       "      <th>WFC</th>\n",
       "      <th>WMT</th>\n",
       "      <th>...</th>\n",
       "      <th>AIR</th>\n",
       "      <th>BAC</th>\n",
       "      <th>JNJ</th>\n",
       "      <th>MS</th>\n",
       "      <th>NVDA</th>\n",
       "      <th>ORCL</th>\n",
       "      <th>T</th>\n",
       "      <th>TSLA</th>\n",
       "      <th>WFC</th>\n",
       "      <th>WMT</th>\n",
       "    </tr>\n",
       "    <tr>\n",
       "      <th>Date</th>\n",
       "      <th></th>\n",
       "      <th></th>\n",
       "      <th></th>\n",
       "      <th></th>\n",
       "      <th></th>\n",
       "      <th></th>\n",
       "      <th></th>\n",
       "      <th></th>\n",
       "      <th></th>\n",
       "      <th></th>\n",
       "      <th></th>\n",
       "      <th></th>\n",
       "      <th></th>\n",
       "      <th></th>\n",
       "      <th></th>\n",
       "      <th></th>\n",
       "      <th></th>\n",
       "      <th></th>\n",
       "      <th></th>\n",
       "      <th></th>\n",
       "      <th></th>\n",
       "    </tr>\n",
       "  </thead>\n",
       "  <tbody>\n",
       "    <tr>\n",
       "      <th>1962-01-02</th>\n",
       "      <td>NaN</td>\n",
       "      <td>NaN</td>\n",
       "      <td>0.061495</td>\n",
       "      <td>NaN</td>\n",
       "      <td>NaN</td>\n",
       "      <td>NaN</td>\n",
       "      <td>NaN</td>\n",
       "      <td>NaN</td>\n",
       "      <td>NaN</td>\n",
       "      <td>NaN</td>\n",
       "      <td>...</td>\n",
       "      <td>NaN</td>\n",
       "      <td>NaN</td>\n",
       "      <td>0</td>\n",
       "      <td>NaN</td>\n",
       "      <td>NaN</td>\n",
       "      <td>NaN</td>\n",
       "      <td>NaN</td>\n",
       "      <td>NaN</td>\n",
       "      <td>NaN</td>\n",
       "      <td>NaN</td>\n",
       "    </tr>\n",
       "    <tr>\n",
       "      <th>1962-01-03</th>\n",
       "      <td>NaN</td>\n",
       "      <td>NaN</td>\n",
       "      <td>0.060539</td>\n",
       "      <td>NaN</td>\n",
       "      <td>NaN</td>\n",
       "      <td>NaN</td>\n",
       "      <td>NaN</td>\n",
       "      <td>NaN</td>\n",
       "      <td>NaN</td>\n",
       "      <td>NaN</td>\n",
       "      <td>...</td>\n",
       "      <td>NaN</td>\n",
       "      <td>NaN</td>\n",
       "      <td>345600</td>\n",
       "      <td>NaN</td>\n",
       "      <td>NaN</td>\n",
       "      <td>NaN</td>\n",
       "      <td>NaN</td>\n",
       "      <td>NaN</td>\n",
       "      <td>NaN</td>\n",
       "      <td>NaN</td>\n",
       "    </tr>\n",
       "    <tr>\n",
       "      <th>1962-01-04</th>\n",
       "      <td>NaN</td>\n",
       "      <td>NaN</td>\n",
       "      <td>0.059902</td>\n",
       "      <td>NaN</td>\n",
       "      <td>NaN</td>\n",
       "      <td>NaN</td>\n",
       "      <td>NaN</td>\n",
       "      <td>NaN</td>\n",
       "      <td>NaN</td>\n",
       "      <td>NaN</td>\n",
       "      <td>...</td>\n",
       "      <td>NaN</td>\n",
       "      <td>NaN</td>\n",
       "      <td>216000</td>\n",
       "      <td>NaN</td>\n",
       "      <td>NaN</td>\n",
       "      <td>NaN</td>\n",
       "      <td>NaN</td>\n",
       "      <td>NaN</td>\n",
       "      <td>NaN</td>\n",
       "      <td>NaN</td>\n",
       "    </tr>\n",
       "    <tr>\n",
       "      <th>1962-01-05</th>\n",
       "      <td>NaN</td>\n",
       "      <td>NaN</td>\n",
       "      <td>0.058946</td>\n",
       "      <td>NaN</td>\n",
       "      <td>NaN</td>\n",
       "      <td>NaN</td>\n",
       "      <td>NaN</td>\n",
       "      <td>NaN</td>\n",
       "      <td>NaN</td>\n",
       "      <td>NaN</td>\n",
       "      <td>...</td>\n",
       "      <td>NaN</td>\n",
       "      <td>NaN</td>\n",
       "      <td>129600</td>\n",
       "      <td>NaN</td>\n",
       "      <td>NaN</td>\n",
       "      <td>NaN</td>\n",
       "      <td>NaN</td>\n",
       "      <td>NaN</td>\n",
       "      <td>NaN</td>\n",
       "      <td>NaN</td>\n",
       "    </tr>\n",
       "    <tr>\n",
       "      <th>1962-01-08</th>\n",
       "      <td>NaN</td>\n",
       "      <td>NaN</td>\n",
       "      <td>0.057990</td>\n",
       "      <td>NaN</td>\n",
       "      <td>NaN</td>\n",
       "      <td>NaN</td>\n",
       "      <td>NaN</td>\n",
       "      <td>NaN</td>\n",
       "      <td>NaN</td>\n",
       "      <td>NaN</td>\n",
       "      <td>...</td>\n",
       "      <td>NaN</td>\n",
       "      <td>NaN</td>\n",
       "      <td>172800</td>\n",
       "      <td>NaN</td>\n",
       "      <td>NaN</td>\n",
       "      <td>NaN</td>\n",
       "      <td>NaN</td>\n",
       "      <td>NaN</td>\n",
       "      <td>NaN</td>\n",
       "      <td>NaN</td>\n",
       "    </tr>\n",
       "  </tbody>\n",
       "</table>\n",
       "<p>5 rows × 50 columns</p>\n",
       "</div>"
      ],
      "text/plain": [
       "Price      Close                                               ... Volume      \\\n",
       "Ticker       AIR BAC       JNJ  MS NVDA ORCL   T TSLA WFC WMT  ...    AIR BAC   \n",
       "Date                                                           ...              \n",
       "1962-01-02   NaN NaN  0.061495 NaN  NaN  NaN NaN  NaN NaN NaN  ...    NaN NaN   \n",
       "1962-01-03   NaN NaN  0.060539 NaN  NaN  NaN NaN  NaN NaN NaN  ...    NaN NaN   \n",
       "1962-01-04   NaN NaN  0.059902 NaN  NaN  NaN NaN  NaN NaN NaN  ...    NaN NaN   \n",
       "1962-01-05   NaN NaN  0.058946 NaN  NaN  NaN NaN  NaN NaN NaN  ...    NaN NaN   \n",
       "1962-01-08   NaN NaN  0.057990 NaN  NaN  NaN NaN  NaN NaN NaN  ...    NaN NaN   \n",
       "\n",
       "Price                                              \n",
       "Ticker         JNJ  MS NVDA ORCL   T TSLA WFC WMT  \n",
       "Date                                               \n",
       "1962-01-02       0 NaN  NaN  NaN NaN  NaN NaN NaN  \n",
       "1962-01-03  345600 NaN  NaN  NaN NaN  NaN NaN NaN  \n",
       "1962-01-04  216000 NaN  NaN  NaN NaN  NaN NaN NaN  \n",
       "1962-01-05  129600 NaN  NaN  NaN NaN  NaN NaN NaN  \n",
       "1962-01-08  172800 NaN  NaN  NaN NaN  NaN NaN NaN  \n",
       "\n",
       "[5 rows x 50 columns]"
      ]
     },
     "execution_count": 262,
     "metadata": {},
     "output_type": "execute_result"
    }
   ],
   "source": [
    "stock_df.head()"
   ]
  },
  {
   "cell_type": "code",
   "execution_count": 267,
   "id": "c17e5147-9755-4d7c-9738-f3ccf66be93a",
   "metadata": {},
   "outputs": [],
   "source": [
    "stock_swdf = stock_df.swaplevel(1, 0, axis= 1)"
   ]
  },
  {
   "cell_type": "code",
   "execution_count": 274,
   "id": "aeb52d86-107d-4314-9f82-3d13ca28052a",
   "metadata": {},
   "outputs": [],
   "source": [
    "stock_swdf = stock_swdf.loc[stock_swdf.index > '2010-01-01']"
   ]
  },
  {
   "cell_type": "code",
   "execution_count": 275,
   "id": "90cc4abf-d872-4a15-b02a-b10eb6bc7ac9",
   "metadata": {},
   "outputs": [
    {
     "data": {
      "text/plain": [
       "Date\n",
       "2010-01-04    21.482334\n",
       "2010-01-05    21.898056\n",
       "2010-01-06    23.000641\n",
       "2010-01-07    23.362144\n",
       "2010-01-08    22.991604\n",
       "                ...    \n",
       "2025-05-21    60.360001\n",
       "2025-05-22    60.090000\n",
       "2025-05-23    59.759998\n",
       "2025-05-27    61.750000\n",
       "2025-05-28    62.014999\n",
       "Name: Close, Length: 3874, dtype: float64"
      ]
     },
     "execution_count": 275,
     "metadata": {},
     "output_type": "execute_result"
    }
   ],
   "source": [
    "stock_swdf.AIR.Close"
   ]
  },
  {
   "cell_type": "code",
   "execution_count": 276,
   "id": "4bd45193-b302-44f0-b0dc-b5a7868f6524",
   "metadata": {},
   "outputs": [
    {
     "data": {
      "image/png": "[encoded data removed]",
      "text/plain": [
       "<Figure size 640x480 with 1 Axes>"
      ]
     },
     "metadata": {},
     "output_type": "display_data"
    }
   ],
   "source": [
    "fig, ax = plt.subplots(1,1)\n",
    "for comp in tickers:\n",
    "    comp_ser = stock_swdf[comp].Close\n",
    "    ax.plot(comp_ser.index, comp_ser, label= comp)\n",
    "ax.legend()\n",
    "plt.show()"
   ]
  },
  {
   "cell_type": "code",
   "execution_count": 279,
   "id": "88687f70-ae47-4cbd-a402-de66905009e8",
   "metadata": {},
   "outputs": [
    {
     "data": {
      "text/plain": [
       "array([[1., 1.],\n",
       "       [1., 1.]])"
      ]
     },
     "execution_count": 279,
     "metadata": {},
     "output_type": "execute_result"
    }
   ],
   "source": [
    "np.corrcoef([1,2,3], [1,2,3])"
   ]
  },
  {
   "cell_type": "code",
   "execution_count": 286,
   "id": "027a833d-c87c-4ff9-bb09-fd4541562349",
   "metadata": {},
   "outputs": [],
   "source": [
    "top_10_dict = dict(zip(top_10, tickers))"
   ]
  },
  {
   "cell_type": "code",
   "execution_count": 291,
   "id": "f67e48e3-99d4-46d6-8109-21a71c0a5fe9",
   "metadata": {},
   "outputs": [
    {
     "data": {
      "text/plain": [
       "{'morgan_stanley': 'MS',\n",
       " 'tesla_motors': 'TSLA',\n",
       " 'bank_of_america': 'BAC',\n",
       " 'airbus': 'AIR',\n",
       " 'wells_fargo': 'WFC',\n",
       " 'nvidia': 'NVDA',\n",
       " 'johnson_johnson': 'JNJ',\n",
       " 'oracle': 'ORCL',\n",
       " 'at_t': 'T',\n",
       " 'walmart': 'WMT'}"
      ]
     },
     "execution_count": 291,
     "metadata": {},
     "output_type": "execute_result"
    }
   ],
   "source": [
    "top_10_dict"
   ]
  },
  {
   "cell_type": "code",
   "execution_count": 345,
   "id": "35f06a1a-9a6b-4df5-aec9-06a8ffe35134",
   "metadata": {},
   "outputs": [
    {
     "data": {
      "text/plain": [
       "dict_keys(['morgan_stanley', 'tesla_motors', 'bank_of_america', 'airbus', 'wells_fargo', 'nvidia', 'johnson_johnson', 'oracle', 'at_t', 'walmart'])"
      ]
     },
     "execution_count": 345,
     "metadata": {},
     "output_type": "execute_result"
    }
   ],
   "source": [
    "top_10_dict.keys()"
   ]
  },
  {
   "cell_type": "code",
   "execution_count": 292,
   "id": "9630933c-9329-4b6f-b778-9c43fee7e931",
   "metadata": {},
   "outputs": [],
   "source": [
    "sent_df_test = sent_df.copy()"
   ]
  },
  {
   "cell_type": "code",
   "execution_count": 365,
   "id": "4bebfd77-0d53-460c-af36-959e6204d580",
   "metadata": {},
   "outputs": [],
   "source": [
    "def set_ticker(ser : pd.Series, ticker_dict : dict):\n",
    "    if ser.company in ticker_dict.keys():\n",
    "        ser = pd.concat([ser, pd.Series({'ticker':ticker_dict[ser.company]})])\n",
    "    else:\n",
    "        ser = pd.concat([ser, pd.Series({'ticker':pd.NA})])\n",
    "    return ser"
   ]
  },
  {
   "cell_type": "code",
   "execution_count": 366,
   "id": "69c62a68-2a04-4ca8-b4cc-03c4ae88dc65",
   "metadata": {},
   "outputs": [
    {
     "data": {
      "text/html": [
       "<div>\n",
       "<style scoped>\n",
       "    .dataframe tbody tr th:only-of-type {\n",
       "        vertical-align: middle;\n",
       "    }\n",
       "\n",
       "    .dataframe tbody tr th {\n",
       "        vertical-align: top;\n",
       "    }\n",
       "\n",
       "    .dataframe thead th {\n",
       "        text-align: right;\n",
       "    }\n",
       "</style>\n",
       "<table border=\"1\" class=\"dataframe\">\n",
       "  <thead>\n",
       "    <tr style=\"text-align: right;\">\n",
       "      <th></th>\n",
       "      <th>date</th>\n",
       "      <th>company</th>\n",
       "      <th>volume</th>\n",
       "      <th>positive</th>\n",
       "      <th>negative</th>\n",
       "      <th>sentiment</th>\n",
       "      <th>esg_score</th>\n",
       "      <th>e_score</th>\n",
       "      <th>s_score</th>\n",
       "      <th>g_score</th>\n",
       "      <th>general_risk_score</th>\n",
       "      <th>esg_risk_score</th>\n",
       "      <th>credit_risk_score</th>\n",
       "      <th>immediate_risk_score</th>\n",
       "      <th>ISIN</th>\n",
       "      <th>ticker</th>\n",
       "    </tr>\n",
       "  </thead>\n",
       "  <tbody>\n",
       "    <tr>\n",
       "      <th>0</th>\n",
       "      <td>2010-01-01</td>\n",
       "      <td>cara_therapeutics_inc</td>\n",
       "      <td>0</td>\n",
       "      <td>0</td>\n",
       "      <td>0</td>\n",
       "      <td>0.5</td>\n",
       "      <td>5.0</td>\n",
       "      <td>5.0</td>\n",
       "      <td>5.0</td>\n",
       "      <td>5.0</td>\n",
       "      <td>0.0</td>\n",
       "      <td>0.0</td>\n",
       "      <td>0.0</td>\n",
       "      <td>0.0</td>\n",
       "      <td>US1407551092</td>\n",
       "      <td>&lt;NA&gt;</td>\n",
       "    </tr>\n",
       "    <tr>\n",
       "      <th>1</th>\n",
       "      <td>2010-01-02</td>\n",
       "      <td>cara_therapeutics_inc</td>\n",
       "      <td>0</td>\n",
       "      <td>0</td>\n",
       "      <td>0</td>\n",
       "      <td>0.5</td>\n",
       "      <td>5.0</td>\n",
       "      <td>5.0</td>\n",
       "      <td>5.0</td>\n",
       "      <td>5.0</td>\n",
       "      <td>0.0</td>\n",
       "      <td>0.0</td>\n",
       "      <td>0.0</td>\n",
       "      <td>0.0</td>\n",
       "      <td>US1407551092</td>\n",
       "      <td>&lt;NA&gt;</td>\n",
       "    </tr>\n",
       "  </tbody>\n",
       "</table>\n",
       "</div>"
      ],
      "text/plain": [
       "         date                company  volume  positive  negative  sentiment  \\\n",
       "0  2010-01-01  cara_therapeutics_inc       0         0         0        0.5   \n",
       "1  2010-01-02  cara_therapeutics_inc       0         0         0        0.5   \n",
       "\n",
       "   esg_score  e_score  s_score  g_score  general_risk_score  esg_risk_score  \\\n",
       "0        5.0      5.0      5.0      5.0                 0.0             0.0   \n",
       "1        5.0      5.0      5.0      5.0                 0.0             0.0   \n",
       "\n",
       "   credit_risk_score  immediate_risk_score          ISIN ticker  \n",
       "0                0.0                   0.0  US1407551092   <NA>  \n",
       "1                0.0                   0.0  US1407551092   <NA>  "
      ]
     },
     "execution_count": 366,
     "metadata": {},
     "output_type": "execute_result"
    }
   ],
   "source": [
    "sent_df_test.iloc[0:2].apply(set_ticker, axis= 1, args= (top_10_dict,))"
   ]
  },
  {
   "cell_type": "code",
   "execution_count": 281,
   "id": "cfe4fbc0-7fbb-4f39-88cc-7c3badcc1093",
   "metadata": {},
   "outputs": [
    {
     "data": {
      "text/plain": [
       "Date\n",
       "2010-01-04     22.148869\n",
       "2010-01-05     22.958591\n",
       "2010-01-06     23.252380\n",
       "2010-01-07     23.589153\n",
       "2010-01-08     23.109062\n",
       "                 ...    \n",
       "2025-05-21    125.300003\n",
       "2025-05-22    126.260002\n",
       "2025-05-23    126.070000\n",
       "2025-05-27    129.210007\n",
       "2025-05-28    127.660004\n",
       "Name: Close, Length: 3874, dtype: float64"
      ]
     },
     "execution_count": 281,
     "metadata": {},
     "output_type": "execute_result"
    }
   ],
   "source": [
    "pd.DataFrame(stock_swdf.MS.Close, )"
   ]
  },
  {
   "cell_type": "code",
   "execution_count": 368,
   "id": "ae1fadd3-c746-4f3c-9602-c9293dc4965a",
   "metadata": {},
   "outputs": [
    {
     "data": {
      "text/plain": [
       "array(['cara_therapeutics_inc', 'morgan_stanley', 'carnival___plc',\n",
       "       'international_consolidated_airlines',\n",
       "       'renewable_energy_group_inc', 'penn_national_gaming_inc',\n",
       "       'the_blackstone_group', 'teladoc_health', 'urban_one_inc',\n",
       "       'papa_johns', 'align_biopharma', 'cloudflare_inc',\n",
       "       'nortonlifelock_inc', 'weibo_corp', 'sangamo_therapeutics_inc',\n",
       "       'sunrun_inc', 'bank_of_america', 'imax_corporation',\n",
       "       'tupperware_brands_corporation', 'kroger', 'firstenergy',\n",
       "       'ngl_energy_partners_lp', 'gan_limited',\n",
       "       'crowdstrike_holdings_inc_a', 'general_mills', 'tetra_tech_inc',\n",
       "       'wave_life_sciences_ltd', 'cvs_health', 'wynn_resorts',\n",
       "       'newell_brands', 'wheaton_precious_metals_corp',\n",
       "       'american_airlines', 'guardant_health_inc', 'united_technologies',\n",
       "       'stitch_fix_incclass_a', 'smartrent_inc', 'dow_inc', 'guess_inc',\n",
       "       '3m', 'matinas_biopharma_holdings_i', 'stmicroelectronics',\n",
       "       'ag_mortgage_investment_trust_inc', 'merckco', 'funko_incclass_a',\n",
       "       'applied_materials', 'marathon_oil', 'iovance_biotherapeutics_inc',\n",
       "       'frontline_ltd', 'new_concept_energy_inc', 'fortinet_inc',\n",
       "       'hawaiian_holdings_inc', 'oneok', 'momo_inc', 'duke_energy',\n",
       "       'brinker_international_inc', 'porsche', 'dominion_energy', 'sysco',\n",
       "       'crocs_inc', 'take_two_interactive_software_inc', 'under_armour',\n",
       "       'callon_petroleum_company', 'realty_income_corporation', 'gopro',\n",
       "       'united_states_steel', 'seagate_technology', 'li_auto_inc',\n",
       "       'dave_and_buster_entertainment_inc', 'arista_networks_inc',\n",
       "       'carver_bancorp_inc', 'dynavax_technologies_corporation',\n",
       "       'playa_hotels_&_resorts_nv', 'arcturus_therapeutics_holdings_inc',\n",
       "       'ishares_sandp_global_clean_energy_index_fund',\n",
       "       'akebia_therapeutics_inc', 'walmart', 'ovintiv_inc', 'chevron',\n",
       "       'nissan', 'at_t', 'snap', 'torm_plc', 'honda', 'infosys_ltd',\n",
       "       'pepsico', 'northern_oil_&_gas_inc', 'paysign_inc',\n",
       "       'americas_gold___silver_corp', 'bjs_wholesale_club_holdings',\n",
       "       'sandstorm_gold_ase', 'heron_therapeutics_inc_',\n",
       "       'controladora_vuela_compania_de_aviacion_sab_de_cv',\n",
       "       'iamgold_corp', 'enphase_energy_inc', 'cytomx_therapeutics_inc',\n",
       "       'arbor_realty_trust', 'wells_fargo', 'lululemon_athletica_inc',\n",
       "       'keycorp', 'tencent_music_entertainment', 'marriott_international',\n",
       "       'california_resources_corporation', 'ac_immune_sa',\n",
       "       'ovid_therapeutics_inc', 'precision_drilling_corporation',\n",
       "       'delta_air_lines', 'inuvo_inc', 'qudian_inc',\n",
       "       'comstock_resources_inc',\n",
       "       'restaurant_brands_international_limited_partnership',\n",
       "       'ashford_hospitality_trust_inc', 'schlumberger', 'johnson_johnson',\n",
       "       'crispr_therapeutics_ag', 'kirkland_inc',\n",
       "       'tandem_diabetes_care_inc', 'conocophillips',\n",
       "       'boyd_gaming_corporation', 'coty_inc',\n",
       "       'innovative_industrial_properties_inc',\n",
       "       'harmony_gold_mining_company_limited', 'sabre_corporation',\n",
       "       'jiayin_group_inc', 'aurinia_pharmaceuticals_inc', 'xpo_logistics',\n",
       "       'stag_industrial_inc', 'arca_biopharma_inc', 'clearway_energy_inc',\n",
       "       'enbridge_inc', 'lloyds_banking', 'airbus', 'veritone_inc',\n",
       "       'medicinova_inc', 'dropbox_inc', 'comcast', 'tyson_foods',\n",
       "       'american_express', 'western_digital',\n",
       "       'six_flags_entertainment_corporation_new', 'dollar_tree', 'paypal',\n",
       "       'surgery_partners_inc', 'the_cheesecake_factory_incorporated',\n",
       "       'viveve_medical_inc', 'forum_energy_technologies_inc',\n",
       "       'marvell_technology_inc', 'general_dynamics', 'starbucks',\n",
       "       'splunk', 'lam_research', 'oracle', 'exelixis_inc',\n",
       "       'tpg_re_finance_trust_inc', 'warner_music', 'banco_santander',\n",
       "       'gamestop', 'mongodb_inc', 'vista_outdoor_inc',\n",
       "       'barnes_and_noble_education_inc', 'dexcom', 'fedex', 'ifresh_inc',\n",
       "       'prospect_capital_corporation', 'corning',\n",
       "       'vanguard_total_bond_market_etf', 'endeavour_silver_corporation',\n",
       "       'yelp_inc', 'hasbro', 'workday', 'conduent_incorporated',\n",
       "       'tesla_motors', 'riot_blockchain', 'wandt_offshore_inc',\n",
       "       'taseko_mines', 'himax_technologies_inc', 'microvision_inc',\n",
       "       'mgm_resorts_international', 'goodyear_tire_and_rubber_company',\n",
       "       'icici_bank_ltd', 'enservco_corporation', 'ladder_capital_corp',\n",
       "       'reckitt_benckiser', 'ballard_power_systems_inc',\n",
       "       'ocean_power_technologies_inc', 'groupon_inc',\n",
       "       'biocryst_pharmaceuticals_inc', 'pinduoduo_inc',\n",
       "       'jetblue_airways_corp', 'canada_goose_holdings_inc', 'datadog_inc',\n",
       "       'hecla_mining_company', 'redwood_trust_inc', 'pandora_media_inc',\n",
       "       'jakks_pacific_inc', 'salesforce_com', 'nikola_corporation',\n",
       "       'marathon_petroleum', 'nvidia', 'actinium_pharmaceuticals_inc',\n",
       "       'opko_health_inc', 'micron_technology',\n",
       "       'brookfield_renewable_partners_lp', 'biontech_se'], dtype=object)"
      ]
     },
     "execution_count": 368,
     "metadata": {},
     "output_type": "execute_result"
    }
   ],
   "source": [
    "sent_df.company.unique()"
   ]
  },
  {
   "cell_type": "code",
   "execution_count": 369,
   "id": "707760b2-88b8-4185-99ea-5ca90d03f82b",
   "metadata": {},
   "outputs": [],
   "source": [
    "all_tickers = [\"CARA\", \"MS\", \"CCL\", \"IAG\", \"REGI\", \"PENN\", \"BX\", \"TDOC\", \"UONE\", \"PZZA\", \"NET\", \"NLOK\", \"WB\", \"SGMO\", \"RUN\", \"BAC\", \"IMAX\", \"TUP\", \"KR\", \"FE\", \"NGL\", \"GAN\", \"CRWD\", \"GIS\", \"TTEK\", \"WVE\", \"CVS\", \"WYNN\", \"NWL\", \"WPM\", \"AAL\", \"GH\", \"RTX\", \"SFIX\", \"SMRT\", \"DOW\", \"GES\", \"MMM\", \"MTNB\", \"STM\", \"MITT\", \"MRK\", \"FNKO\", \"AMAT\", \"MRO\", \"IOVA\", \"FRO\", \"GBR\", \"FTNT\", \"HA\", \"OKE\", \"MOMO\", \"DUK\", \"EAT\", \"P911\", \"D\", \"SYY\", \"CROX\", \"TTWO\", \"UA\", \"CPE\", \"O\", \"GPRO\", \"X\", \"STX\", \"LI\", \"PLAY\", \"ANET\", \"CARV\", \"DVAX\", \"PLYA\", \"ARCT\", \"ICLN\", \"AKBA\", \"WMT\", \"OVV\", \"CVX\", \"NSANY\", \"T\", \"SNAP\", \"TRMD\", \"HMC\", \"INFY\", \"PEP\", \"NOG\", \"PAYS\", \"USAS\", \"BJ\", \"SAND\", \"HRTX\", \"VLRS\", \"IAG\", \"ENPH\", \"CTMX\", \"ABR\", \"WFC\", \"LULU\", \"KEY\", \"TME\", \"MAR\", \"CRC\", \"ACIU\", \"OVID\", \"PDS\", \"DAL\", \"INUV\", \"QD\", \"CRK\", \"QSR\", \"AHT\", \"SLB\", \"JNJ\", \"CRSP\", \"KIRK\", \"TNDM\", \"COP\", \"BYD\", \"COTY\", \"IIPR\", \"HMY\", \"SABR\", \"JFIN\", \"AUPH\", \"XPO\", \"STAG\", \"ABIO\", \"CWEN\", \"ENB\", \"LYG\", \"AIR\", \"VERI\", \"MNOV\", \"DBX\", \"CMCSA\", \"TSN\", \"AXP\", \"WDC\", \"SIX\", \"DLTR\", \"PYPL\", \"SGRY\", \"CAKE\", \"VIVE\", \"FET\", \"MRVL\", \"GD\", \"SBUX\", \"SPLK\", \"LRCX\", \"ORCL\", \"EXEL\", \"TRTX\", \"WMG\", \"SAN\", \"GME\", \"MDB\", \"VSTO\", \"BNED\", \"DXCM\", \"FDX\", \"IFMK\", \"PSEC\", \"GLW\", \"BND\", \"EXK\", \"YELP\", \"HAS\", \"WDAY\", \"CNDT\", \"TSLA\", \"RIOT\", \"WFT\", \"TGB\", \"HIMX\", \"MVIS\", \"MGM\", \"GT\", \"IBN\", \"ENSV\", \"LADR\", \"RBGLY\", \"BLDP\", \"OPTT\", \"GRPN\", \"BCRX\", \"PDD\", \"JBLU\", \"GOOS\", \"DDOG\", \"HL\", \"RWT\", \"P\", \"JAKK\", \"CRM\", \"NKLA\", \"MPC\", \"NVDA\", \"ATNM\", \"OPK\", \"MU\", \"BEP\", \"BNTX\"]"
   ]
  },
  {
   "cell_type": "code",
   "execution_count": 370,
   "id": "dfef992c-9e08-456f-8be2-ecee896fef86",
   "metadata": {},
   "outputs": [
    {
     "data": {
      "text/plain": [
       "202"
      ]
     },
     "execution_count": 370,
     "metadata": {},
     "output_type": "execute_result"
    }
   ],
   "source": [
    "len(all_tickers)"
   ]
  },
  {
   "cell_type": "code",
   "execution_count": 371,
   "id": "519d77e9-22f6-4197-8d68-58ce4dd67dd6",
   "metadata": {},
   "outputs": [],
   "source": [
    "all_tickers_dict = dict(zip(sent_df.company.unique(), all_tickers))"
   ]
  },
  {
   "cell_type": "code",
   "execution_count": 377,
   "id": "2f884824-f1d2-42e0-b0d5-fe4e78cab5fe",
   "metadata": {},
   "outputs": [],
   "source": [
    "sent_df.insert(column= 'ticker', loc=2, value= sent_df.company.map(all_tickers_dict))"
   ]
  },
  {
   "cell_type": "code",
   "execution_count": 387,
   "id": "2f9aa413-e2e3-43bd-8731-7c49c55928c7",
   "metadata": {},
   "outputs": [],
   "source": [
    "sent_df = sent_df.drop('ticker', axis= 1)"
   ]
  },
  {
   "cell_type": "code",
   "execution_count": 388,
   "id": "43a0658b-92cc-45b7-9fcd-cdb70fd36cd9",
   "metadata": {},
   "outputs": [
    {
     "data": {
      "text/html": [
       "<div>\n",
       "<style scoped>\n",
       "    .dataframe tbody tr th:only-of-type {\n",
       "        vertical-align: middle;\n",
       "    }\n",
       "\n",
       "    .dataframe tbody tr th {\n",
       "        vertical-align: top;\n",
       "    }\n",
       "\n",
       "    .dataframe thead th {\n",
       "        text-align: right;\n",
       "    }\n",
       "</style>\n",
       "<table border=\"1\" class=\"dataframe\">\n",
       "  <thead>\n",
       "    <tr style=\"text-align: right;\">\n",
       "      <th></th>\n",
       "      <th>date</th>\n",
       "      <th>company</th>\n",
       "      <th>volume</th>\n",
       "      <th>positive</th>\n",
       "      <th>negative</th>\n",
       "      <th>sentiment</th>\n",
       "      <th>esg_score</th>\n",
       "      <th>e_score</th>\n",
       "      <th>s_score</th>\n",
       "      <th>g_score</th>\n",
       "      <th>general_risk_score</th>\n",
       "      <th>esg_risk_score</th>\n",
       "      <th>credit_risk_score</th>\n",
       "      <th>immediate_risk_score</th>\n",
       "      <th>ISIN</th>\n",
       "    </tr>\n",
       "  </thead>\n",
       "  <tbody>\n",
       "    <tr>\n",
       "      <th>1048570</th>\n",
       "      <td>2014-12-12</td>\n",
       "      <td>biontech_se</td>\n",
       "      <td>0</td>\n",
       "      <td>0</td>\n",
       "      <td>0</td>\n",
       "      <td>0.5</td>\n",
       "      <td>5.0</td>\n",
       "      <td>5.0</td>\n",
       "      <td>5.0</td>\n",
       "      <td>5.0</td>\n",
       "      <td>0.0</td>\n",
       "      <td>0.0</td>\n",
       "      <td>0.0</td>\n",
       "      <td>0.0</td>\n",
       "      <td>US09075V1026</td>\n",
       "    </tr>\n",
       "    <tr>\n",
       "      <th>1048571</th>\n",
       "      <td>2014-12-13</td>\n",
       "      <td>biontech_se</td>\n",
       "      <td>0</td>\n",
       "      <td>0</td>\n",
       "      <td>0</td>\n",
       "      <td>0.5</td>\n",
       "      <td>5.0</td>\n",
       "      <td>5.0</td>\n",
       "      <td>5.0</td>\n",
       "      <td>5.0</td>\n",
       "      <td>0.0</td>\n",
       "      <td>0.0</td>\n",
       "      <td>0.0</td>\n",
       "      <td>0.0</td>\n",
       "      <td>US09075V1026</td>\n",
       "    </tr>\n",
       "    <tr>\n",
       "      <th>1048572</th>\n",
       "      <td>2014-12-14</td>\n",
       "      <td>biontech_se</td>\n",
       "      <td>0</td>\n",
       "      <td>0</td>\n",
       "      <td>0</td>\n",
       "      <td>0.5</td>\n",
       "      <td>5.0</td>\n",
       "      <td>5.0</td>\n",
       "      <td>5.0</td>\n",
       "      <td>5.0</td>\n",
       "      <td>0.0</td>\n",
       "      <td>0.0</td>\n",
       "      <td>0.0</td>\n",
       "      <td>0.0</td>\n",
       "      <td>US09075V1026</td>\n",
       "    </tr>\n",
       "    <tr>\n",
       "      <th>1048573</th>\n",
       "      <td>2014-12-15</td>\n",
       "      <td>biontech_se</td>\n",
       "      <td>0</td>\n",
       "      <td>0</td>\n",
       "      <td>0</td>\n",
       "      <td>0.5</td>\n",
       "      <td>5.0</td>\n",
       "      <td>5.0</td>\n",
       "      <td>5.0</td>\n",
       "      <td>5.0</td>\n",
       "      <td>0.0</td>\n",
       "      <td>0.0</td>\n",
       "      <td>0.0</td>\n",
       "      <td>0.0</td>\n",
       "      <td>US09075V1026</td>\n",
       "    </tr>\n",
       "    <tr>\n",
       "      <th>1048574</th>\n",
       "      <td>2014-12-16</td>\n",
       "      <td>biontech_se</td>\n",
       "      <td>0</td>\n",
       "      <td>0</td>\n",
       "      <td>0</td>\n",
       "      <td>0.5</td>\n",
       "      <td>5.0</td>\n",
       "      <td>5.0</td>\n",
       "      <td>5.0</td>\n",
       "      <td>5.0</td>\n",
       "      <td>0.0</td>\n",
       "      <td>0.0</td>\n",
       "      <td>0.0</td>\n",
       "      <td>0.0</td>\n",
       "      <td>US09075V1026</td>\n",
       "    </tr>\n",
       "  </tbody>\n",
       "</table>\n",
       "</div>"
      ],
      "text/plain": [
       "               date      company  volume  positive  negative  sentiment  \\\n",
       "1048570  2014-12-12  biontech_se       0         0         0        0.5   \n",
       "1048571  2014-12-13  biontech_se       0         0         0        0.5   \n",
       "1048572  2014-12-14  biontech_se       0         0         0        0.5   \n",
       "1048573  2014-12-15  biontech_se       0         0         0        0.5   \n",
       "1048574  2014-12-16  biontech_se       0         0         0        0.5   \n",
       "\n",
       "         esg_score  e_score  s_score  g_score  general_risk_score  \\\n",
       "1048570        5.0      5.0      5.0      5.0                 0.0   \n",
       "1048571        5.0      5.0      5.0      5.0                 0.0   \n",
       "1048572        5.0      5.0      5.0      5.0                 0.0   \n",
       "1048573        5.0      5.0      5.0      5.0                 0.0   \n",
       "1048574        5.0      5.0      5.0      5.0                 0.0   \n",
       "\n",
       "         esg_risk_score  credit_risk_score  immediate_risk_score          ISIN  \n",
       "1048570             0.0                0.0                   0.0  US09075V1026  \n",
       "1048571             0.0                0.0                   0.0  US09075V1026  \n",
       "1048572             0.0                0.0                   0.0  US09075V1026  \n",
       "1048573             0.0                0.0                   0.0  US09075V1026  \n",
       "1048574             0.0                0.0                   0.0  US09075V1026  "
      ]
     },
     "execution_count": 388,
     "metadata": {},
     "output_type": "execute_result"
    }
   ],
   "source": [
    "sent_df.tail()"
   ]
  },
  {
   "cell_type": "code",
   "execution_count": null,
   "id": "f6ae5ddf-8658-4aa8-a1bb-ee5f5ce2e96b",
   "metadata": {},
   "outputs": [],
   "source": []
  },
  {
   "cell_type": "code",
   "execution_count": null,
   "id": "6144a5c0-6ad9-4b19-8cea-2f710ec66da5",
   "metadata": {},
   "outputs": [],
   "source": []
  },
  {
   "cell_type": "code",
   "execution_count": null,
   "id": "21910ad6-ec4a-4a5d-bf92-9be10b44a71c",
   "metadata": {},
   "outputs": [],
   "source": []
  },
  {
   "cell_type": "code",
   "execution_count": null,
   "id": "1ef2138e-04c0-469a-9794-27376e352665",
   "metadata": {},
   "outputs": [],
   "source": []
  }
 ],
 "metadata": {
  "kernelspec": {
   "display_name": "DataSci",
   "language": "python",
   "name": "datascie"
  },
  "language_info": {
   "codemirror_mode": {
    "name": "ipython",
    "version": 3
   },
   "file_extension": ".py",
   "mimetype": "text/x-python",
   "name": "python",
   "nbconvert_exporter": "python",
   "pygments_lexer": "ipython3",
   "version": "3.13.0"
  }
 },
 "nbformat": 4,
 "nbformat_minor": 5
}

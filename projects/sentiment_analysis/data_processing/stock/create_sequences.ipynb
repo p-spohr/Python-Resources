{
 "cells": [
  {
   "cell_type": "code",
   "execution_count": 8,
   "id": "2d884e75-eb15-4d78-a140-1a82a6a47d33",
   "metadata": {},
   "outputs": [],
   "source": [
    "import torch\n",
    "import pandas as pd\n",
    "import numpy as np\n",
    "import matplotlib.pyplot as plt\n",
    "\n",
    "from utils import simulate_stock_price\n",
    "from utils import numpy_sequence_target"
   ]
  },
  {
   "cell_type": "markdown",
   "id": "fcbebcd2-8cfa-4f11-b625-dce172670666",
   "metadata": {},
   "source": [
    "Geometric Brownian Motion\n",
    "$$\n",
    "S_t = S_0 \\exp((\\mu - \\frac{\\sigma^2}{2} ) t + \\sigma W_t)\n",
    "$$"
   ]
  },
  {
   "cell_type": "code",
   "execution_count": 9,
   "id": "1701d92a-5851-4725-9ccd-40fc15e9088d",
   "metadata": {},
   "outputs": [
    {
     "data": {
      "image/png": "[encoded data removed]",
      "text/plain": [
       "<Figure size 640x480 with 1 Axes>"
      ]
     },
     "metadata": {},
     "output_type": "display_data"
    }
   ],
   "source": [
    "x_axis, gbm_stock = simulate_stock_price(mean= 0.08, sigma = 0.2, t_delta = 0.01, size= 100, S0 = 1)\n",
    "plt.plot(x_axis, gbm_stock)\n",
    "plt.show()"
   ]
  },
  {
   "cell_type": "code",
   "execution_count": 3,
   "id": "9f28d27c-0991-48b0-b2d0-bb92c9011853",
   "metadata": {},
   "outputs": [
    {
     "ename": "IndexError",
     "evalue": "index 100 is out of bounds for axis 0 with size 100",
     "output_type": "error",
     "traceback": [
      "\u001b[1;31m---------------------------------------------------------------------------\u001b[0m",
      "\u001b[1;31mIndexError\u001b[0m                                Traceback (most recent call last)",
      "Cell \u001b[1;32mIn[3], line 1\u001b[0m\n\u001b[1;32m----> 1\u001b[0m X_train, y_train \u001b[38;5;241m=\u001b[39m \u001b[43mnumpy_sequence_target\u001b[49m\u001b[43m(\u001b[49m\u001b[43mgbm_stock\u001b[49m\u001b[43m,\u001b[49m\u001b[43m \u001b[49m\u001b[38;5;241;43m3\u001b[39;49m\u001b[43m)\u001b[49m\n",
      "File \u001b[1;32m~\\OneDrive\\p-spohr-repos\\Python-Resources\\projects\\sentiment_analysis\\utils.py:55\u001b[0m, in \u001b[0;36mnumpy_sequence_target\u001b[1;34m(time_series, sequence_length)\u001b[0m\n\u001b[0;32m     52\u001b[0m \u001b[38;5;28;01melse\u001b[39;00m:\n\u001b[0;32m     53\u001b[0m     sequence \u001b[38;5;241m=\u001b[39m np\u001b[38;5;241m.\u001b[39mvstack((sequence, seq))\n\u001b[1;32m---> 55\u001b[0m targ \u001b[38;5;241m=\u001b[39m \u001b[43mtime_series\u001b[49m\u001b[43m[\u001b[49m\u001b[43mi\u001b[49m\u001b[43m \u001b[49m\u001b[38;5;241;43m+\u001b[39;49m\u001b[43m \u001b[49m\u001b[43msequence_length\u001b[49m\u001b[43m \u001b[49m\u001b[38;5;241;43m+\u001b[39;49m\u001b[43m \u001b[49m\u001b[38;5;241;43m1\u001b[39;49m\u001b[43m]\u001b[49m\n\u001b[0;32m     56\u001b[0m \u001b[38;5;28;01mif\u001b[39;00m targets \u001b[38;5;129;01mis\u001b[39;00m \u001b[38;5;28;01mNone\u001b[39;00m:\n\u001b[0;32m     57\u001b[0m     targets \u001b[38;5;241m=\u001b[39m targ\n",
      "\u001b[1;31mIndexError\u001b[0m: index 100 is out of bounds for axis 0 with size 100"
     ]
    }
   ],
   "source": [
    "X_train, y_train = numpy_sequence_target(gbm_stock, 3)"
   ]
  },
  {
   "cell_type": "code",
   "execution_count": 14,
   "id": "153a6469-692b-4fda-895c-15141017fb11",
   "metadata": {},
   "outputs": [
    {
     "data": {
      "text/plain": [
       "(97, 3, 1)"
      ]
     },
     "execution_count": 14,
     "metadata": {},
     "output_type": "execute_result"
    }
   ],
   "source": [
    "X_train.shape"
   ]
  },
  {
   "cell_type": "code",
   "execution_count": 15,
   "id": "a4ba846d-438e-4f8a-a56d-2445e9296e0e",
   "metadata": {},
   "outputs": [
    {
     "data": {
      "text/plain": [
       "(97,)"
      ]
     },
     "execution_count": 15,
     "metadata": {},
     "output_type": "execute_result"
    }
   ],
   "source": [
    "y_train.shape"
   ]
  },
  {
   "cell_type": "code",
   "execution_count": 16,
   "id": "65c87045-4448-4af5-b69c-5591ca96bd4c",
   "metadata": {},
   "outputs": [
    {
     "data": {
      "text/plain": [
       "array([[[1.        ],\n",
       "        [0.9815533 ],\n",
       "        [0.98933814]],\n",
       "\n",
       "       [[0.9815533 ],\n",
       "        [0.98933814],\n",
       "        [0.98506255]],\n",
       "\n",
       "       [[0.98933814],\n",
       "        [0.98506255],\n",
       "        [0.98391845]],\n",
       "\n",
       "       [[0.98506255],\n",
       "        [0.98391845],\n",
       "        [0.97378044]],\n",
       "\n",
       "       [[0.98391845],\n",
       "        [0.97378044],\n",
       "        [1.01715278]],\n",
       "\n",
       "       [[0.97378044],\n",
       "        [1.01715278],\n",
       "        [0.99030921]]])"
      ]
     },
     "execution_count": 16,
     "metadata": {},
     "output_type": "execute_result"
    }
   ],
   "source": [
    "X_train[0:6]"
   ]
  },
  {
   "cell_type": "code",
   "execution_count": 17,
   "id": "d9188339-6f29-4826-ae63-28850c0527e4",
   "metadata": {},
   "outputs": [
    {
     "data": {
      "text/plain": [
       "array([0.98506255, 0.98391845, 0.97378044, 1.01715278, 0.99030921,\n",
       "       0.9739524 ])"
      ]
     },
     "execution_count": 17,
     "metadata": {},
     "output_type": "execute_result"
    }
   ],
   "source": [
    "y_train[0:6]"
   ]
  },
  {
   "cell_type": "code",
   "execution_count": 16,
   "id": "56c9c03b-0b63-46d3-b699-8c941dcc490a",
   "metadata": {},
   "outputs": [],
   "source": [
    "def numpy_sequence_target(time_series : np.array, sequence_length: int) -> tuple[np.array, np.array]:\n",
    "    sequence = None\n",
    "    targets = None\n",
    "    for i in range(0, len(time_series) - sequence_length):\n",
    "        seq_test = time_series[i:i + sequence_length]\n",
    "        if seq_test.size == sequence_length:\n",
    "            seq = np.resize(time_series[i:i + sequence_length], (1, sequence_length, 1))\n",
    "            if sequence is None:\n",
    "                sequence = seq\n",
    "            else:\n",
    "                sequence = np.vstack((sequence, seq))\n",
    "                \n",
    "            targ = time_series[i + sequence_length]\n",
    "            if targets is None:\n",
    "                targets = targ\n",
    "            else:\n",
    "                targets = np.append(targets, targ)\n",
    "    return sequence, targets"
   ]
  },
  {
   "cell_type": "code",
   "execution_count": 17,
   "id": "d8c0da69-fcdf-4a50-aa7e-8bb021e6ab0d",
   "metadata": {},
   "outputs": [
    {
     "data": {
      "text/plain": [
       "(array([[[ 0],\n",
       "         [ 1],\n",
       "         [ 2]],\n",
       " \n",
       "        [[ 1],\n",
       "         [ 2],\n",
       "         [ 3]],\n",
       " \n",
       "        [[ 2],\n",
       "         [ 3],\n",
       "         [ 4]],\n",
       " \n",
       "        [[ 3],\n",
       "         [ 4],\n",
       "         [ 5]],\n",
       " \n",
       "        [[ 4],\n",
       "         [ 5],\n",
       "         [ 6]],\n",
       " \n",
       "        [[ 5],\n",
       "         [ 6],\n",
       "         [ 7]],\n",
       " \n",
       "        [[ 6],\n",
       "         [ 7],\n",
       "         [ 8]],\n",
       " \n",
       "        [[ 7],\n",
       "         [ 8],\n",
       "         [ 9]],\n",
       " \n",
       "        [[ 8],\n",
       "         [ 9],\n",
       "         [10]]]),\n",
       " array([ 3,  4,  5,  6,  7,  8,  9, 10, 11]))"
      ]
     },
     "execution_count": 17,
     "metadata": {},
     "output_type": "execute_result"
    }
   ],
   "source": [
    "numpy_sequence_target(np.arange(12), 3)"
   ]
  },
  {
   "cell_type": "code",
   "execution_count": null,
   "id": "b3a5bfcf-3def-4eeb-a83e-86af997107d5",
   "metadata": {},
   "outputs": [],
   "source": []
  }
 ],
 "metadata": {
  "kernelspec": {
   "display_name": "DataSci",
   "language": "python",
   "name": "datascie"
  },
  "language_info": {
   "codemirror_mode": {
    "name": "ipython",
    "version": 3
   },
   "file_extension": ".py",
   "mimetype": "text/x-python",
   "name": "python",
   "nbconvert_exporter": "python",
   "pygments_lexer": "ipython3",
   "version": "3.13.0"
  }
 },
 "nbformat": 4,
 "nbformat_minor": 5
}

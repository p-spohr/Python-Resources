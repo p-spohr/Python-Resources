{
 "cells": [
  {
   "cell_type": "code",
   "execution_count": 3,
   "id": "5e7a9271-01ff-4526-b55d-8eddb8976268",
   "metadata": {},
   "outputs": [
    {
     "name": "stdout",
     "output_type": "stream",
     "text": [
      "Es ist kein list.\n"
     ]
    }
   ],
   "source": [
    "if type([1,2,3]) == tuple:\n",
    "\tprint('Es ist ein list.')\n",
    "else:\n",
    "    print('Es ist kein list.')"
   ]
  },
  {
   "cell_type": "code",
   "execution_count": 4,
   "id": "8ac1c890-35f3-464f-a350-79d8b1b4c397",
   "metadata": {},
   "outputs": [
    {
     "name": "stdout",
     "output_type": "stream",
     "text": [
      "Es gibt ein h!\n"
     ]
    }
   ],
   "source": [
    "if 'h' in 'hello':\n",
    "\tprint('Es gibt ein h!')"
   ]
  },
  {
   "cell_type": "code",
   "execution_count": 5,
   "id": "1e5124ee-00e7-4d32-a3b1-099918d23f4c",
   "metadata": {},
   "outputs": [
    {
     "name": "stdout",
     "output_type": "stream",
     "text": [
      "25\n"
     ]
    }
   ],
   "source": [
    "if 'h' in 'hello':\n",
    "\tprint(5* len('hello'))"
   ]
  },
  {
   "cell_type": "code",
   "execution_count": 6,
   "id": "78e3b9e2-fbc0-45c0-8ae3-641fc3b799a8",
   "metadata": {},
   "outputs": [],
   "source": [
    "x = {'name':'bill', 'pet': 'cat', 'food': 'pizza'}"
   ]
  },
  {
   "cell_type": "code",
   "execution_count": 7,
   "id": "9e95e4ba-05e0-4d31-9d8f-7896ccf0e56a",
   "metadata": {},
   "outputs": [
    {
     "data": {
      "text/plain": [
       "3"
      ]
     },
     "execution_count": 7,
     "metadata": {},
     "output_type": "execute_result"
    }
   ],
   "source": [
    "len(x)"
   ]
  },
  {
   "cell_type": "code",
   "execution_count": 8,
   "id": "f6a50eef-1740-4e46-b8c4-5c8f119133dc",
   "metadata": {},
   "outputs": [],
   "source": [
    "meine_liste = [1,2,3]"
   ]
  },
  {
   "cell_type": "code",
   "execution_count": 10,
   "id": "152f36bb-231e-413c-bf51-a66a08dc8b05",
   "metadata": {},
   "outputs": [
    {
     "data": {
      "text/plain": [
       "True"
      ]
     },
     "execution_count": 10,
     "metadata": {},
     "output_type": "execute_result"
    }
   ],
   "source": [
    "2 in meine_liste"
   ]
  },
  {
   "cell_type": "code",
   "execution_count": 12,
   "id": "afef920d-1e0b-4fd6-9d15-5b334c3cb0c5",
   "metadata": {},
   "outputs": [
    {
     "name": "stdout",
     "output_type": "stream",
     "text": [
      "Es ist kein tuple.\n"
     ]
    }
   ],
   "source": [
    "if type([1,2,3]) == tuple:\n",
    "\tprint('Es ist ein tuple.')\n",
    "else:\n",
    "    print('Es ist kein tuple.')"
   ]
  },
  {
   "cell_type": "code",
   "execution_count": 29,
   "id": "ee4ed73f-d812-4fa3-86c3-513aa8841fb5",
   "metadata": {},
   "outputs": [
    {
     "name": "stdout",
     "output_type": "stream",
     "text": [
      "3\n",
      "2\n",
      "1\n"
     ]
    }
   ],
   "source": [
    "z = list(range(1,4,1))\n",
    "z.reverse()\n",
    "for i in z:\n",
    "\tprint(i)"
   ]
  },
  {
   "cell_type": "code",
   "execution_count": 30,
   "id": "313c49b5-1df9-4ce4-8d0a-e21e5afe2ff1",
   "metadata": {},
   "outputs": [
    {
     "name": "stdout",
     "output_type": "stream",
     "text": [
      "0\n",
      "1\n",
      "2\n",
      "3\n",
      "4\n"
     ]
    }
   ],
   "source": [
    "zahl = 0\n",
    "\n",
    "while zahl < 5:\n",
    "    print(zahl)\n",
    "    \n",
    "    zahl += 1  # tippt das zuerst!!!"
   ]
  },
  {
   "cell_type": "code",
   "execution_count": 35,
   "id": "48a0fa55-9a68-424c-a766-46107d8ab27c",
   "metadata": {},
   "outputs": [],
   "source": [
    "x = 1\n",
    "liste = []\n",
    "while x < 10:\n",
    "    liste.append(x)\n",
    "    x += 1"
   ]
  },
  {
   "cell_type": "code",
   "execution_count": 36,
   "id": "909dfcf4-8097-4d03-b321-f03865fd0e62",
   "metadata": {},
   "outputs": [
    {
     "data": {
      "text/plain": [
       "[1, 2, 3, 4, 5, 6, 7, 8, 9]"
      ]
     },
     "execution_count": 36,
     "metadata": {},
     "output_type": "execute_result"
    }
   ],
   "source": [
    "liste"
   ]
  },
  {
   "cell_type": "code",
   "execution_count": 37,
   "id": "1d7e9b1c-6977-439d-95d3-6611d6d5324e",
   "metadata": {},
   "outputs": [
    {
     "name": "stdout",
     "output_type": "stream",
     "text": [
      "[4, 0, 2, 3]\n"
     ]
    }
   ],
   "source": [
    "liste = [4,0,2,3,1,2,3,1]\n",
    "while 1 in liste:\n",
    "\tliste.pop()\n",
    "print(liste)"
   ]
  },
  {
   "cell_type": "code",
   "execution_count": 38,
   "id": "767f5502-22eb-422f-b289-cd500026bb4f",
   "metadata": {},
   "outputs": [
    {
     "name": "stdout",
     "output_type": "stream",
     "text": [
      "Hallo.\n",
      "Meine Beste Freundin!\n",
      "Hallo.\n"
     ]
    }
   ],
   "source": [
    "gruppe = [\n",
    "\t\t  {'name': 'Tim', 'alter':55, 'essen': 'pizza'},\n",
    "\t\t  {'name': 'Tina', 'alter':33, 'essen': 'kuchen'},\n",
    "\t\t  {'name': 'Zed', 'alter':20, 'essen': 'schnitzel'}]\n",
    "\n",
    "for freund in gruppe:\n",
    "\tmatch freund['name']:\n",
    "\t\tcase 'Tina':\n",
    "\t\t\tprint('Meine Beste Freundin!')\n",
    "\t\tcase _:\n",
    "\t\t\tprint('Hallo.')"
   ]
  },
  {
   "cell_type": "code",
   "execution_count": 40,
   "id": "e71ba9fa-9391-4be2-a80c-8bb303e95d3e",
   "metadata": {},
   "outputs": [
    {
     "name": "stdout",
     "output_type": "stream",
     "text": [
      "Hallo.\n",
      "Meine Beste Freundin!\n",
      "Lass uns kuchen essen!\n",
      "Hallo.\n"
     ]
    }
   ],
   "source": [
    "gruppe = [\n",
    "\t\t  {'name': 'Tim', 'alter':55, 'essen': 'pizza'},\n",
    "\t\t  {'name': 'Tina', 'alter':33, 'essen': 'kuchen'},\n",
    "\t\t  {'name': 'Zed', 'alter':20, 'essen': 'schnitzel'}]\n",
    "\n",
    "for freund in gruppe:\n",
    "\tmatch freund['name']:\n",
    "\t\tcase 'Tina':\n",
    "\t\t\tprint('Meine Beste Freundin!')\n",
    "\t\t\tprint('Lass uns', freund['essen'], 'essen!')\n",
    "\t\tcase _:\n",
    "\t\t\tprint('Hallo.')"
   ]
  },
  {
   "cell_type": "code",
   "execution_count": null,
   "id": "1201bf0d-2976-46a8-99a0-656f34cb2b32",
   "metadata": {},
   "outputs": [],
   "source": []
  }
 ],
 "metadata": {
  "kernelspec": {
   "display_name": "Python 3 (ipykernel)",
   "language": "python",
   "name": "python3"
  },
  "language_info": {
   "codemirror_mode": {
    "name": "ipython",
    "version": 3
   },
   "file_extension": ".py",
   "mimetype": "text/x-python",
   "name": "python",
   "nbconvert_exporter": "python",
   "pygments_lexer": "ipython3",
   "version": "3.12.4"
  }
 },
 "nbformat": 4,
 "nbformat_minor": 5
}
